{
 "cells": [
  {
   "cell_type": "code",
   "execution_count": 1,
   "metadata": {
    "collapsed": true
   },
   "outputs": [],
   "source": [
    "import random"
   ]
  },
  {
   "cell_type": "code",
   "execution_count": 2,
   "metadata": {
    "collapsed": true
   },
   "outputs": [],
   "source": [
    "def roll_die():\n",
    "    return random.randint(1, 6)"
   ]
  },
  {
   "cell_type": "code",
   "execution_count": 3,
   "metadata": {
    "collapsed": true
   },
   "outputs": [],
   "source": [
    "class Player:\n",
    "\n",
    "    def __init__(self):\n",
    "        self.points = 0\n",
    "        self.rolls = 0\n",
    "\n",
    "    def reset(self):\n",
    "        self.points = 0\n",
    "        self.rolls = 0\n",
    "\n",
    "    def is_rolling_again(self):\n",
    "        return False\n",
    "\n",
    "    def play_turn(self):\n",
    "        self.reset()\n",
    "\n",
    "        while True:\n",
    "            roll = roll_die()\n",
    "            self.rolls += 1\n",
    "\n",
    "            if roll == 1:\n",
    "                break\n",
    "            else:\n",
    "                self.points += roll\n",
    "\n",
    "            if not self.is_rolling_again():\n",
    "                break\n",
    "\n",
    "        return self.points\n"
   ]
  },
  {
   "cell_type": "code",
   "execution_count": 4,
   "metadata": {
    "collapsed": true
   },
   "outputs": [],
   "source": [
    "class PigSolitaireGame:\n",
    "\n",
    "    def __init__(self, player):\n",
    "        self.player = player\n",
    "\n",
    "    def play_game(self):\n",
    "        total_points = 0\n",
    "\n",
    "        for _ in range(7):\n",
    "            total_points += self.player.play_turn()\n",
    "\n",
    "        return total_points\n"
   ]
  },
  {
   "cell_type": "code",
   "execution_count": 5,
   "metadata": {
    "collapsed": true
   },
   "outputs": [],
   "source": [
    "class CautiousPlayer(Player):\n",
    "\n",
    "    def is_rolling_again(self):\n",
    "        return self.rolls < 2\n",
    "\n",
    "\n",
    "class PigYolo(Player):\n",
    "\n",
    "    def is_rolling_again(self):\n",
    "        return self.rolls < 6\n",
    "\n"
   ]
  },
  {
   "cell_type": "code",
   "execution_count": 6,
   "metadata": {
    "collapsed": false
   },
   "outputs": [
    {
     "name": "stdout",
     "output_type": "stream",
     "text": [
      "27\n",
      "58\n",
      "132\n"
     ]
    }
   ],
   "source": [
    "game = PigSolitaireGame(Player())\n",
    "\n",
    "print(game.play_game())\n",
    "\n",
    "game = PigSolitaireGame(CautiousPlayer())\n",
    "\n",
    "print(game.play_game())\n",
    "\n",
    "game = PigSolitaireGame(PigYolo())\n",
    "\n",
    "print(game.play_game())\n"
   ]
  },
  {
   "cell_type": "code",
   "execution_count": 8,
   "metadata": {
    "collapsed": true
   },
   "outputs": [],
   "source": []
  },
  {
   "cell_type": "code",
   "execution_count": null,
   "metadata": {
    "collapsed": true
   },
   "outputs": [],
   "source": []
  },
  {
   "cell_type": "code",
   "execution_count": null,
   "metadata": {
    "collapsed": true
   },
   "outputs": [],
   "source": []
  }
 ],
 "metadata": {
  "kernelspec": {
   "display_name": "Python 3",
   "language": "python",
   "name": "python3"
  },
  "language_info": {
   "codemirror_mode": {
    "name": "ipython",
    "version": 3
   },
   "file_extension": ".py",
   "mimetype": "text/x-python",
   "name": "python",
   "nbconvert_exporter": "python",
   "pygments_lexer": "ipython3",
   "version": "3.5.1"
  }
 },
 "nbformat": 4,
 "nbformat_minor": 0
}
